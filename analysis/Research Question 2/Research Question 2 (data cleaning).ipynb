{
 "cells": [
  {
   "cell_type": "markdown",
   "id": "0e4a753e",
   "metadata": {},
   "source": [
    "## Load the First Phase csv file which does not have the six block website and 2 other website. This is with F-PKI csv file."
   ]
  },
  {
   "cell_type": "code",
   "execution_count": 1,
   "id": "d6a9232d",
   "metadata": {},
   "outputs": [],
   "source": [
    "import pandas as pd\n",
    "df = pd.read_csv('new_1stwithoutsixwebsite.csv')"
   ]
  },
  {
   "cell_type": "markdown",
   "id": "fc0dc512",
   "metadata": {},
   "source": [
    "## Below script merge the clean First phase csv file with Third phase csv. Third phase csv file contain without F-PKI dataset"
   ]
  },
  {
   "cell_type": "code",
   "execution_count": 2,
   "id": "dc71bcab",
   "metadata": {},
   "outputs": [],
   "source": [
    "import pandas as pd\n",
    "\n",
    "\n",
    "df1 = pd.read_csv('new_1stwithoutsixwebsite.csv')\n",
    "df2 = pd.read_csv('new_Third phase.csv')\n",
    "\n",
    "\n",
    "merged_df = pd.merge(df1, df2, on=['Website', 'Country'])\n",
    "merged_df.to_csv('rq2merged.csv', index=False)\n"
   ]
  },
  {
   "cell_type": "markdown",
   "id": "fea22a0f",
   "metadata": {},
   "source": [
    "## As the F-PKI map server able to give JSON file for Case1/2/3, we assume all this case are with F-PKI user experience case. We remove the Case 4 from dataset"
   ]
  },
  {
   "cell_type": "code",
   "execution_count": 1,
   "id": "a67a5125",
   "metadata": {},
   "outputs": [],
   "source": [
    "import pandas as pd\n",
    "df3 = pd.read_csv('rq2merged.csv')"
   ]
  },
  {
   "cell_type": "code",
   "execution_count": 2,
   "id": "35f3f05d",
   "metadata": {},
   "outputs": [],
   "source": [
    "df3 = df3.dropna()"
   ]
  },
  {
   "cell_type": "code",
   "execution_count": 4,
   "id": "a5344425",
   "metadata": {},
   "outputs": [],
   "source": [
    "df3  =  df3[df3['WASM RTT'] !='Waiting time exceeds 10 seconds'] "
   ]
  },
  {
   "cell_type": "code",
   "execution_count": 6,
   "id": "ac236b92",
   "metadata": {},
   "outputs": [],
   "source": [
    "df3.to_csv(\"new_rq2merged.csv\")"
   ]
  }
 ],
 "metadata": {
  "kernelspec": {
   "display_name": "Python 3 (ipykernel)",
   "language": "python",
   "name": "python3"
  },
  "language_info": {
   "codemirror_mode": {
    "name": "ipython",
    "version": 3
   },
   "file_extension": ".py",
   "mimetype": "text/x-python",
   "name": "python",
   "nbconvert_exporter": "python",
   "pygments_lexer": "ipython3",
   "version": "3.9.13"
  }
 },
 "nbformat": 4,
 "nbformat_minor": 5
}
