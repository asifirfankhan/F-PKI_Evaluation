{
 "cells": [
  {
   "cell_type": "markdown",
   "id": "1351934c",
   "metadata": {},
   "source": [
    "## Below scripts checks an independent sample t-test to compare the initial response time when F-PKI was used and when it was not"
   ]
  },
  {
   "cell_type": "markdown",
   "id": "7a91ad8a",
   "metadata": {},
   "source": [
    "#### This statistical tests results are based entirely on the sample data that we collected and analyzed when determining statistical significance or non-significance."
   ]
  },
  {
   "cell_type": "code",
   "execution_count": 4,
   "id": "97be7de7",
   "metadata": {},
   "outputs": [
    {
     "name": "stdout",
     "output_type": "stream",
     "text": [
      "Independent Samples T-Test Results:\n",
      "T-Statistic: 0.15864742654681963\n",
      "P-Value: 0.8739502308288498\n",
      "The difference between the groups is not statistically significant.\n"
     ]
    }
   ],
   "source": [
    "import pandas as pd\n",
    "import matplotlib.pyplot as plt\n",
    "import seaborn as sns\n",
    "from scipy import stats\n",
    "\n",
    "df1_cleaned = pd.read_csv('new_rq2merged.csv') \n",
    "df3_cleaned = pd.read_csv('new_rq2merged.csv') \n",
    "\n",
    "df1_cleaned = df1_cleaned.dropna(subset=['Initial Response_x']) # F-PKI user initial response time\n",
    "df3_cleaned = df3_cleaned.dropna(subset=['Initial Response_y']) # Without F-PKI user initial response time\n",
    "\n",
    "# independent samples t-test\n",
    "t_statistic, p_value = stats.ttest_ind(df1_cleaned['Initial Response_x'], df3_cleaned['Initial Response_y'])\n",
    "\n",
    "print(\"Independent Samples T-Test Results:\")\n",
    "print(f\"T-Statistic: {t_statistic}\")\n",
    "print(f\"P-Value: {p_value}\")\n",
    "\n",
    "alpha = 0.05  \n",
    "\n",
    "if p_value < alpha:\n",
    "    print(\"The difference between the groups is statistically significant.\")\n",
    "else:\n",
    "    print(\"The difference between the groups is not statistically significant.\")\n",
    "\n",
    "# combined_data = pd.concat([df1_cleaned['Initial Response_x'], df3_cleaned['Initial Response_y']], axis=0)\n",
    "# group_labels = ['FPKI Users'] * len(df1_cleaned) + ['Without FPKI Users'] * len(df3_cleaned)\n",
    "\n",
    "# colors = ['#c45587', '#54AED1']\n",
    "\n",
    "# mean_values = combined_data.groupby(group_labels).mean()\n",
    "# confidence_intervals = combined_data.groupby(group_labels).apply(stats.sem) * 1.96  \n",
    "\n",
    "# plt.figure(figsize=(8, 6))\n",
    "# sns.barplot(x=group_labels, y=combined_data, linewidth=6, palette=colors, ci=None)\n",
    "# plt.xlabel('Users Group')\n",
    "# plt.ylabel('Initial Response Time(ms)')\n",
    "\n",
    "# for i, mean_value in enumerate(mean_values):\n",
    "#     plt.text(i, mean_value + 5, f\"{mean_value:.2f}\", ha='center')\n",
    "# for i, (mean_value, ci_value) in enumerate(zip(mean_values, confidence_intervals)):\n",
    "#     plt.errorbar(i, mean_value, yerr=ci_value, color='black', capsize=5)\n",
    "\n",
    "# if p_value < 0.001:\n",
    "#     p_value_text = \"< 0.001\"\n",
    "# else:\n",
    "#     p_value_text = f\"{p_value:.3f}\"\n",
    "# plt.text(0.5, combined_data.max(), f\"p-value = {p_value_text}\", ha='center', fontsize=12)\n",
    "\n",
    "# plt.savefig(\"rq2ttest.png\", dpi=300, bbox_inches='tight') \n",
    "# plt.show()\n"
   ]
  },
  {
   "cell_type": "code",
   "execution_count": null,
   "id": "50e20e35",
   "metadata": {},
   "outputs": [],
   "source": []
  }
 ],
 "metadata": {
  "kernelspec": {
   "display_name": "Python 3 (ipykernel)",
   "language": "python",
   "name": "python3"
  },
  "language_info": {
   "codemirror_mode": {
    "name": "ipython",
    "version": 3
   },
   "file_extension": ".py",
   "mimetype": "text/x-python",
   "name": "python",
   "nbconvert_exporter": "python",
   "pygments_lexer": "ipython3",
   "version": "3.9.13"
  }
 },
 "nbformat": 4,
 "nbformat_minor": 5
}
