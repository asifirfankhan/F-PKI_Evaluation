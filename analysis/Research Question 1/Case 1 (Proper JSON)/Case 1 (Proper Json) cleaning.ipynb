{
 "cells": [
  {
   "cell_type": "markdown",
   "id": "6fb76648",
   "metadata": {},
   "source": [
    "## Load the First Phase csv file. This is with F-PKI csv "
   ]
  },
  {
   "cell_type": "code",
   "execution_count": 3,
   "id": "958469c2",
   "metadata": {},
   "outputs": [],
   "source": [
    "import pandas as pd\n",
    "kf = pd.read_csv('First phase.csv')"
   ]
  },
  {
   "cell_type": "code",
   "execution_count": 4,
   "id": "0ac05127",
   "metadata": {},
   "outputs": [
    {
     "data": {
      "text/html": [
       "<div>\n",
       "<style scoped>\n",
       "    .dataframe tbody tr th:only-of-type {\n",
       "        vertical-align: middle;\n",
       "    }\n",
       "\n",
       "    .dataframe tbody tr th {\n",
       "        vertical-align: top;\n",
       "    }\n",
       "\n",
       "    .dataframe thead th {\n",
       "        text-align: right;\n",
       "    }\n",
       "</style>\n",
       "<table border=\"1\" class=\"dataframe\">\n",
       "  <thead>\n",
       "    <tr style=\"text-align: right;\">\n",
       "      <th></th>\n",
       "      <th>Website</th>\n",
       "      <th>Connection Establishment Time</th>\n",
       "      <th>RTT</th>\n",
       "      <th>Initial Response</th>\n",
       "      <th>Latency</th>\n",
       "      <th>Page Load Time</th>\n",
       "      <th>Dependency Load Time</th>\n",
       "      <th>Page Size</th>\n",
       "      <th>IP</th>\n",
       "      <th>City</th>\n",
       "      <th>Country</th>\n",
       "      <th>WASM RTT</th>\n",
       "      <th>WASM Durations</th>\n",
       "      <th>WASM Sizes</th>\n",
       "      <th>Website Type</th>\n",
       "    </tr>\n",
       "  </thead>\n",
       "  <tbody>\n",
       "    <tr>\n",
       "      <th>0</th>\n",
       "      <td>google.com</td>\n",
       "      <td>140.879154</td>\n",
       "      <td>45.387030</td>\n",
       "      <td>107.0</td>\n",
       "      <td>22.693515</td>\n",
       "      <td>2606.0</td>\n",
       "      <td>981.0</td>\n",
       "      <td>5758.0</td>\n",
       "      <td>31.171.155.229</td>\n",
       "      <td>Tirana</td>\n",
       "      <td>Albania</td>\n",
       "      <td>44</td>\n",
       "      <td>810</td>\n",
       "      <td>3131021</td>\n",
       "      <td>Other</td>\n",
       "    </tr>\n",
       "    <tr>\n",
       "      <th>1</th>\n",
       "      <td>facebook.com</td>\n",
       "      <td>132.058382</td>\n",
       "      <td>50.455570</td>\n",
       "      <td>239.0</td>\n",
       "      <td>25.227785</td>\n",
       "      <td>2166.0</td>\n",
       "      <td>1904.0</td>\n",
       "      <td>67307.0</td>\n",
       "      <td>31.171.155.229</td>\n",
       "      <td>Tirana</td>\n",
       "      <td>Albania</td>\n",
       "      <td>46</td>\n",
       "      <td>3707</td>\n",
       "      <td>18162816</td>\n",
       "      <td>Social Media Sites</td>\n",
       "    </tr>\n",
       "    <tr>\n",
       "      <th>2</th>\n",
       "      <td>amazon.com</td>\n",
       "      <td>485.580206</td>\n",
       "      <td>47.918558</td>\n",
       "      <td>205.0</td>\n",
       "      <td>23.959279</td>\n",
       "      <td>1897.0</td>\n",
       "      <td>795.0</td>\n",
       "      <td>7027.0</td>\n",
       "      <td>31.171.155.229</td>\n",
       "      <td>Tirana</td>\n",
       "      <td>Albania</td>\n",
       "      <td>Waiting time exceeds 10 seconds</td>\n",
       "      <td>Waiting time exceeds 10 seconds</td>\n",
       "      <td>Waiting time exceeds 10 seconds</td>\n",
       "      <td>E-commerce Platforms</td>\n",
       "    </tr>\n",
       "    <tr>\n",
       "      <th>3</th>\n",
       "      <td>imdb.com</td>\n",
       "      <td>483.942270</td>\n",
       "      <td>45.447350</td>\n",
       "      <td>1264.0</td>\n",
       "      <td>22.723675</td>\n",
       "      <td>4479.0</td>\n",
       "      <td>2425.0</td>\n",
       "      <td>707806.0</td>\n",
       "      <td>31.171.155.229</td>\n",
       "      <td>Tirana</td>\n",
       "      <td>Albania</td>\n",
       "      <td>No WASM RTT,duration or sizes found</td>\n",
       "      <td>No WASM RTT,duration or sizes found</td>\n",
       "      <td>No WASM RTT,duration or sizes found</td>\n",
       "      <td>Entertainment Websites</td>\n",
       "    </tr>\n",
       "    <tr>\n",
       "      <th>4</th>\n",
       "      <td>apple.com</td>\n",
       "      <td>171.164274</td>\n",
       "      <td>45.466900</td>\n",
       "      <td>91.0</td>\n",
       "      <td>22.733450</td>\n",
       "      <td>2072.0</td>\n",
       "      <td>712.0</td>\n",
       "      <td>255185.0</td>\n",
       "      <td>31.171.155.229</td>\n",
       "      <td>Tirana</td>\n",
       "      <td>Albania</td>\n",
       "      <td>46</td>\n",
       "      <td>298</td>\n",
       "      <td>86533</td>\n",
       "      <td>Other</td>\n",
       "    </tr>\n",
       "  </tbody>\n",
       "</table>\n",
       "</div>"
      ],
      "text/plain": [
       "        Website  Connection Establishment Time        RTT  Initial Response  \\\n",
       "0    google.com                     140.879154  45.387030             107.0   \n",
       "1  facebook.com                     132.058382  50.455570             239.0   \n",
       "2    amazon.com                     485.580206  47.918558             205.0   \n",
       "3      imdb.com                     483.942270  45.447350            1264.0   \n",
       "4     apple.com                     171.164274  45.466900              91.0   \n",
       "\n",
       "     Latency  Page Load Time  Dependency Load Time  Page Size              IP  \\\n",
       "0  22.693515          2606.0                 981.0     5758.0  31.171.155.229   \n",
       "1  25.227785          2166.0                1904.0    67307.0  31.171.155.229   \n",
       "2  23.959279          1897.0                 795.0     7027.0  31.171.155.229   \n",
       "3  22.723675          4479.0                2425.0   707806.0  31.171.155.229   \n",
       "4  22.733450          2072.0                 712.0   255185.0  31.171.155.229   \n",
       "\n",
       "     City  Country                             WASM RTT  \\\n",
       "0  Tirana  Albania                                   44   \n",
       "1  Tirana  Albania                                   46   \n",
       "2  Tirana  Albania      Waiting time exceeds 10 seconds   \n",
       "3  Tirana  Albania  No WASM RTT,duration or sizes found   \n",
       "4  Tirana  Albania                                   46   \n",
       "\n",
       "                        WASM Durations                           WASM Sizes  \\\n",
       "0                                  810                              3131021   \n",
       "1                                 3707                             18162816   \n",
       "2      Waiting time exceeds 10 seconds      Waiting time exceeds 10 seconds   \n",
       "3  No WASM RTT,duration or sizes found  No WASM RTT,duration or sizes found   \n",
       "4                                  298                                86533   \n",
       "\n",
       "             Website Type  \n",
       "0                   Other  \n",
       "1      Social Media Sites  \n",
       "2    E-commerce Platforms  \n",
       "3  Entertainment Websites  \n",
       "4                   Other  "
      ]
     },
     "execution_count": 4,
     "metadata": {},
     "output_type": "execute_result"
    }
   ],
   "source": [
    "kf.head(5)"
   ]
  },
  {
   "cell_type": "markdown",
   "id": "1738abff",
   "metadata": {},
   "source": [
    "## 6 block website remove from data set"
   ]
  },
  {
   "cell_type": "code",
   "execution_count": 3,
   "id": "39e8b76d",
   "metadata": {},
   "outputs": [],
   "source": [
    "kf2  =  kf[kf['Website'] !='playstation.com'] "
   ]
  },
  {
   "cell_type": "code",
   "execution_count": 4,
   "id": "6d5ada17",
   "metadata": {},
   "outputs": [],
   "source": [
    "kf3  =  kf2[kf2['Website'] !='samsung.com'] "
   ]
  },
  {
   "cell_type": "code",
   "execution_count": 5,
   "id": "c4adae18",
   "metadata": {},
   "outputs": [],
   "source": [
    "kf4  =  kf3[kf3['Website'] !='usps.com'] "
   ]
  },
  {
   "cell_type": "code",
   "execution_count": 6,
   "id": "339d271e",
   "metadata": {},
   "outputs": [],
   "source": [
    "kf5  =  kf4[kf4['Website'] !='adidas.com'] "
   ]
  },
  {
   "cell_type": "code",
   "execution_count": 7,
   "id": "31c047f6",
   "metadata": {},
   "outputs": [],
   "source": [
    "kf6  =  kf5[kf5['Website'] !='friv.com'] "
   ]
  },
  {
   "cell_type": "code",
   "execution_count": 8,
   "id": "76f47212",
   "metadata": {},
   "outputs": [],
   "source": [
    "kf7  =  kf6[kf6['Website'] !='usnews.com'] "
   ]
  },
  {
   "cell_type": "code",
   "execution_count": 10,
   "id": "02c0b9d0",
   "metadata": {},
   "outputs": [],
   "source": [
    "kf7.to_csv(\"1stwithoutsixwebsite.csv\")"
   ]
  },
  {
   "cell_type": "markdown",
   "id": "69dcf1ed",
   "metadata": {},
   "source": [
    "##  As case 1 is proper JSON we remove all other extension cases (2/3/4) from dataset"
   ]
  },
  {
   "cell_type": "code",
   "execution_count": 13,
   "id": "f9584e95",
   "metadata": {},
   "outputs": [],
   "source": [
    "import pandas as pd\n",
    "\n",
    "df = pd.read_csv('1stwithoutsixwebsite.csv')"
   ]
  },
  {
   "cell_type": "code",
   "execution_count": 15,
   "id": "48d5ddd8",
   "metadata": {},
   "outputs": [],
   "source": [
    "df2  =  df[df['WASM RTT'] !='No WASM RTT,duration or sizes found'] "
   ]
  },
  {
   "cell_type": "code",
   "execution_count": 17,
   "id": "3f7fa5d7",
   "metadata": {},
   "outputs": [],
   "source": [
    "df3 =  df2[df2['WASM RTT'] !='Waiting time exceeds 10 seconds']"
   ]
  },
  {
   "cell_type": "code",
   "execution_count": 19,
   "id": "e017df74",
   "metadata": {},
   "outputs": [],
   "source": [
    "df4  =  df3[df3['WASM RTT'] !='0'] "
   ]
  },
  {
   "cell_type": "code",
   "execution_count": 20,
   "id": "22600bc7",
   "metadata": {},
   "outputs": [],
   "source": [
    "df5 = df4.dropna() "
   ]
  },
  {
   "cell_type": "code",
   "execution_count": 23,
   "id": "a67c0fd7",
   "metadata": {},
   "outputs": [],
   "source": [
    "df5.to_csv(\"new_case1_all_rtt_size_duration.csv\")"
   ]
  },
  {
   "cell_type": "markdown",
   "id": "5f39f46d",
   "metadata": {},
   "source": [
    "## Below script merge the clean First phase (new_case1_all_rtt_size_duration) csv file with Third phase csv. Third phase csv file contain without F-PKI dataset"
   ]
  },
  {
   "cell_type": "code",
   "execution_count": 1,
   "id": "dba97d6f",
   "metadata": {},
   "outputs": [],
   "source": [
    "import pandas as pd\n",
    "\n",
    "\n",
    "df1 = pd.read_csv('new_case1_all_rtt_size_duration.csv')\n",
    "df2 = pd.read_csv('Third phase.csv')\n",
    "\n",
    "merged_df = pd.merge(df1, df2, on=['Website', 'Country'])\n",
    "merged_df.to_csv('nowasmrttsizes10merged.csv', index=False)\n"
   ]
  },
  {
   "cell_type": "markdown",
   "id": "3956c781",
   "metadata": {},
   "source": [
    "## Below script helps to show from 94 websites how many unique websites show Case 1 behaviour"
   ]
  },
  {
   "cell_type": "code",
   "execution_count": 1,
   "id": "e49bbcb4",
   "metadata": {
    "scrolled": true
   },
   "outputs": [
    {
     "name": "stdout",
     "output_type": "stream",
     "text": [
      "Unique Websites:\n",
      "google.com\n",
      "facebook.com\n",
      "apple.com\n",
      "yelp.com\n",
      "dictionary.com\n",
      "britannica.com\n",
      "weather.com\n",
      "walmart.com\n",
      "espncricinfo.com\n",
      "webmd.com\n",
      "thesaurus.com\n",
      "whatsapp.com\n",
      "rottentomatoes.com\n",
      "bbc.com\n",
      "healthline.com\n",
      "netflix.com\n",
      "indeed.com\n",
      "thefreedictionary.com\n",
      "spotify.com\n",
      "ytmp3.cc\n",
      "nih.gov\n",
      "tiktok.com\n",
      "cdc.gov\n",
      "blog.google\n",
      "indiatimes.com\n",
      "speedtest.net\n",
      "ssyoutube.com\n",
      "unsplash.com\n",
      "mcdonalds.com\n",
      "bloomberg.com\n",
      "forbes.com\n",
      "booking.com\n",
      "xhamster.com\n",
      "spanishdict.com\n",
      "goodhousekeeping.com\n",
      "dominos.com\n",
      "twitch.tv\n",
      "pexels.com\n",
      "poki.com\n",
      "caranddriver.com\n",
      "globo.com\n",
      "theguardian.com\n",
      "expedia.com\n",
      "realtor.com\n",
      "crazygames.com\n",
      "digitaltrends.com\n",
      "nintendo.com\n",
      "decathlon.com\n",
      "amazon.com\n",
      "imdb.com\n",
      "pinterest.com\n",
      "wiktionary.org\n",
      "yahoo.com\n",
      "espn.com\n",
      "linkedin.com\n",
      "mayoclinic.org\n",
      "cricbuzz.com\n",
      "timeanddate.com\n",
      "bestbuy.com\n",
      "xvideos.com\n",
      "livescore.com\n",
      "ebay.com\n",
      "pornhub.com\n",
      "steampowered.com\n",
      "investopedia.com\n",
      "nordstrom.com\n",
      "cnbc.com\n",
      "roblox.com\n",
      "flashscore.com\n",
      "vocabulary.com\n",
      "xe.com\n",
      "coinmarketcap.com\n",
      "github.com\n",
      "hotels.com\n",
      "wellsfargo.com\n",
      "nba.com\n",
      "akc.org\n",
      "fast.com\n",
      "stackoverflow.com\n",
      "www2.hm.com\n",
      "grubhub.com\n",
      "merriam-webster.com\n",
      "homedepot.com\n",
      "adobe.com\n",
      "gsmarena.com\n",
      "lowes.com\n",
      "craigslist.org\n",
      "deepl.com\n",
      "xnxx.com\n",
      "tripadvisor.com\n",
      "cambridge.org\n",
      "Total Unique Websites: 91\n"
     ]
    }
   ],
   "source": [
    "import pandas as pd\n",
    "\n",
    "df = pd.read_csv('nowasmrttsizes10merged.csv')\n",
    "\n",
    "unique_websites = df['Website'].unique()\n",
    "num_unique_websites = len(unique_websites)\n",
    "\n",
    "print(\"Unique Websites:\")\n",
    "for website in unique_websites:\n",
    "    print(website)\n",
    "print(f\"Total Unique Websites: {num_unique_websites}\")\n"
   ]
  },
  {
   "cell_type": "code",
   "execution_count": 2,
   "id": "3543a1c7",
   "metadata": {
    "scrolled": true
   },
   "outputs": [
    {
     "name": "stdout",
     "output_type": "stream",
     "text": [
      "Unique Websites:\n",
      "google.com\n",
      "facebook.com\n",
      "apple.com\n",
      "yelp.com\n",
      "dictionary.com\n",
      "britannica.com\n",
      "weather.com\n",
      "walmart.com\n",
      "espncricinfo.com\n",
      "webmd.com\n",
      "thesaurus.com\n",
      "whatsapp.com\n",
      "rottentomatoes.com\n",
      "bbc.com\n",
      "healthline.com\n",
      "netflix.com\n",
      "indeed.com\n",
      "thefreedictionary.com\n",
      "spotify.com\n",
      "ytmp3.cc\n",
      "nih.gov\n",
      "tiktok.com\n",
      "cdc.gov\n",
      "blog.google\n",
      "indiatimes.com\n",
      "speedtest.net\n",
      "ssyoutube.com\n",
      "unsplash.com\n",
      "mcdonalds.com\n",
      "bloomberg.com\n",
      "forbes.com\n",
      "booking.com\n",
      "xhamster.com\n",
      "spanishdict.com\n",
      "goodhousekeeping.com\n",
      "dominos.com\n",
      "twitch.tv\n",
      "pexels.com\n",
      "poki.com\n",
      "caranddriver.com\n",
      "globo.com\n",
      "theguardian.com\n",
      "expedia.com\n",
      "realtor.com\n",
      "crazygames.com\n",
      "digitaltrends.com\n",
      "nintendo.com\n",
      "decathlon.com\n",
      "amazon.com\n",
      "imdb.com\n",
      "pinterest.com\n",
      "wiktionary.org\n",
      "yahoo.com\n",
      "espn.com\n",
      "linkedin.com\n",
      "mayoclinic.org\n",
      "cricbuzz.com\n",
      "timeanddate.com\n",
      "bestbuy.com\n",
      "xvideos.com\n",
      "livescore.com\n",
      "ebay.com\n",
      "pornhub.com\n",
      "steampowered.com\n",
      "investopedia.com\n",
      "nordstrom.com\n",
      "cnbc.com\n",
      "roblox.com\n",
      "flashscore.com\n",
      "vocabulary.com\n",
      "xe.com\n",
      "coinmarketcap.com\n",
      "github.com\n",
      "hotels.com\n",
      "wellsfargo.com\n",
      "nba.com\n",
      "akc.org\n",
      "fast.com\n",
      "stackoverflow.com\n",
      "www2.hm.com\n",
      "grubhub.com\n",
      "merriam-webster.com\n",
      "homedepot.com\n",
      "adobe.com\n",
      "gsmarena.com\n",
      "lowes.com\n",
      "craigslist.org\n",
      "deepl.com\n",
      "xnxx.com\n",
      "tripadvisor.com\n",
      "cambridge.org\n",
      "Total Unique Websites: 91\n"
     ]
    }
   ],
   "source": [
    "import pandas as pd\n",
    "\n",
    "df = pd.read_csv('new_case1_all_rtt_size_duration.csv')\n",
    "\n",
    "unique_websites = df['Website'].unique()\n",
    "num_unique_websites = len(unique_websites)\n",
    "\n",
    "print(\"Unique Websites:\")\n",
    "for website in unique_websites:\n",
    "    print(website)\n",
    "print(f\"Total Unique Websites: {num_unique_websites}\")\n"
   ]
  },
  {
   "cell_type": "code",
   "execution_count": null,
   "id": "803193f7",
   "metadata": {},
   "outputs": [],
   "source": []
  }
 ],
 "metadata": {
  "kernelspec": {
   "display_name": "Python 3 (ipykernel)",
   "language": "python",
   "name": "python3"
  },
  "language_info": {
   "codemirror_mode": {
    "name": "ipython",
    "version": 3
   },
   "file_extension": ".py",
   "mimetype": "text/x-python",
   "name": "python",
   "nbconvert_exporter": "python",
   "pygments_lexer": "ipython3",
   "version": "3.9.13"
  }
 },
 "nbformat": 4,
 "nbformat_minor": 5
}
