{
 "cells": [
  {
   "cell_type": "markdown",
   "id": "602769eb",
   "metadata": {},
   "source": [
    "## Load the First Phase csv file which does not have the six block website inside. This is with F-PKI csv"
   ]
  },
  {
   "cell_type": "code",
   "execution_count": 1,
   "id": "3e34a875",
   "metadata": {},
   "outputs": [],
   "source": [
    "import pandas as pd\n",
    "df = pd.read_csv('1stwithoutsixwebsite.csv')"
   ]
  },
  {
   "cell_type": "markdown",
   "id": "bc1bf88a",
   "metadata": {},
   "source": [
    "## As case 3 JSON file have RTT metrics value is 0. we remove the all other extension cases (1/2/4) from dataset"
   ]
  },
  {
   "cell_type": "code",
   "execution_count": 3,
   "id": "872039cd",
   "metadata": {},
   "outputs": [],
   "source": [
    "df2  =  df[df['WASM RTT'] =='0'] "
   ]
  },
  {
   "cell_type": "code",
   "execution_count": 6,
   "id": "b138f5ce",
   "metadata": {},
   "outputs": [],
   "source": [
    "df2.to_csv(\"new_case2_rtt_is_0.csv\")"
   ]
  },
  {
   "cell_type": "markdown",
   "id": "3cb1e441",
   "metadata": {},
   "source": [
    "## Below script helps to show from 94 websites how many unique websites show Case 3 behaviour"
   ]
  },
  {
   "cell_type": "code",
   "execution_count": 7,
   "id": "28e7d3c5",
   "metadata": {
    "scrolled": true
   },
   "outputs": [
    {
     "name": "stdout",
     "output_type": "stream",
     "text": [
      "Unique Websites:\n",
      "espn.com\n",
      "gsmarena.com\n",
      "cricbuzz.com\n",
      "timeanddate.com\n",
      "pornhub.com\n",
      "steampowered.com\n",
      "cnbc.com\n",
      "flashscore.com\n",
      "hotels.com\n",
      "akc.org\n",
      "cambridge.org\n",
      "imdb.com\n",
      "ytmp3.cc\n",
      "webmd.com\n",
      "nih.gov\n",
      "vocabulary.com\n",
      "xhamster.com\n",
      "nba.com\n",
      "pinterest.com\n",
      "yelp.com\n",
      "linkedin.com\n",
      "xvideos.com\n",
      "tiktok.com\n",
      "booking.com\n",
      "realtor.com\n",
      "mayoclinic.org\n",
      "thesaurus.com\n",
      "mcdonalds.com\n",
      "globo.com\n",
      "expedia.com\n",
      "roblox.com\n",
      "thefreedictionary.com\n",
      "adobe.com\n",
      "wellsfargo.com\n",
      "www2.hm.com\n",
      "merriam-webster.com\n",
      "britannica.com\n",
      "speedtest.net\n",
      "rottentomatoes.com\n",
      "spanishdict.com\n",
      "tripadvisor.com\n",
      "dictionary.com\n",
      "nintendo.com\n",
      "netflix.com\n",
      "whatsapp.com\n",
      "healthline.com\n",
      "livescore.com\n",
      "bbc.com\n",
      "ebay.com\n",
      "unsplash.com\n",
      "twitch.tv\n",
      "pexels.com\n",
      "poki.com\n",
      "deepl.com\n",
      "xe.com\n",
      "yahoo.com\n",
      "walmart.com\n",
      "nordstrom.com\n",
      "forbes.com\n",
      "crazygames.com\n",
      "stackoverflow.com\n",
      "dominos.com\n",
      "digitaltrends.com\n",
      "espncricinfo.com\n",
      "Total Unique Websites: 64\n"
     ]
    }
   ],
   "source": [
    "import pandas as pd\n",
    "\n",
    "\n",
    "df3 = pd.read_csv('new_case2_rtt_is_0.csv')\n",
    "unique_websites = df3['Website'].unique()\n",
    "\n",
    "\n",
    "num_unique_websites = len(unique_websites)\n",
    "\n",
    "\n",
    "print(\"Unique Websites:\")\n",
    "for website in unique_websites:\n",
    "    print(website)\n",
    "print(f\"Total Unique Websites: {num_unique_websites}\")\n"
   ]
  },
  {
   "cell_type": "markdown",
   "id": "83fb752a",
   "metadata": {},
   "source": [
    "## Below script helps to show from 59 websites how many unique countries show Case 3 behaviour"
   ]
  },
  {
   "cell_type": "code",
   "execution_count": 8,
   "id": "12963ec5",
   "metadata": {
    "scrolled": true
   },
   "outputs": [
    {
     "name": "stdout",
     "output_type": "stream",
     "text": [
      "Unique Country:\n",
      "Albania\n",
      "Argentina\n",
      "Australia\n",
      "Austria\n",
      "Belgium\n",
      "Bosnia_And_Herzegovina\n",
      "Brazil\n",
      "Bulgaria\n",
      "Canada\n",
      "Chile\n",
      "Colombia\n",
      "Costa_Rica\n",
      "Croatia\n",
      "Cyprus\n",
      "Czech_Republic\n",
      "Denmark\n",
      "Estonia\n",
      "Finland\n",
      "France\n",
      "Germany\n",
      "Greece\n",
      "Hong_Kong\n",
      "Hungary\n",
      "Iceland\n",
      "Indonesia\n",
      "Ireland\n",
      "Israel\n",
      "Italy\n",
      "Japan\n",
      "Latvia\n",
      "Lithuania\n",
      "Luxembourg\n",
      "Malaysia\n",
      "Mexico\n",
      "Moldova\n",
      "Netherlands\n",
      "New_Zealand\n",
      "North_Macedonia\n",
      "Poland\n",
      "Portugal\n",
      "Romania\n",
      "Serbia\n",
      "Singapore\n",
      "Slovakia\n",
      "Slovenia\n",
      "South_Africa\n",
      "South_Korea\n",
      "Spain\n",
      "Sweden\n",
      "Switzerland\n",
      "Taiwan\n",
      "Thailand\n",
      "Turkey\n",
      "Ukraine\n",
      "United_Kingdom\n",
      "United_States\n",
      "Georgia\n",
      "Norway\n",
      "Total Unique Websites: 58\n"
     ]
    }
   ],
   "source": [
    "import pandas as pd\n",
    "\n",
    "\n",
    "df3 = pd.read_csv('new_case2_rtt_is_0.csv')\n",
    "unique_websites = df3['Country'].unique()\n",
    "\n",
    "num_unique_websites = len(unique_websites)\n",
    "\n",
    "print(\"Unique Country:\")\n",
    "for website in unique_websites:\n",
    "    print(website)\n",
    "print(f\"Total Unique Websites: {num_unique_websites}\")\n"
   ]
  },
  {
   "cell_type": "markdown",
   "id": "5d2322b3",
   "metadata": {},
   "source": [
    "## Below script merge the clean First phase (new_case2_rtt_is_0) csv file (that shows case 3 behaviour) with Third phase csv. Third phase csv file contain without F-PKI dataset"
   ]
  },
  {
   "cell_type": "code",
   "execution_count": 10,
   "id": "5baa30d9",
   "metadata": {},
   "outputs": [],
   "source": [
    "import pandas as pd\n",
    "\n",
    "\n",
    "df1 = pd.read_csv('new_case2_rtt_is_0.csv')\n",
    "df2 = pd.read_csv('Third phase.csv')\n",
    "\n",
    "merged_df = pd.merge(df1, df2, on=['Website', 'Country'])\n",
    "merged_df.to_csv('nowasmrttsizes10merged.csv', index=False)\n"
   ]
  },
  {
   "cell_type": "code",
   "execution_count": null,
   "id": "26b82510",
   "metadata": {},
   "outputs": [],
   "source": []
  }
 ],
 "metadata": {
  "kernelspec": {
   "display_name": "Python 3 (ipykernel)",
   "language": "python",
   "name": "python3"
  },
  "language_info": {
   "codemirror_mode": {
    "name": "ipython",
    "version": 3
   },
   "file_extension": ".py",
   "mimetype": "text/x-python",
   "name": "python",
   "nbconvert_exporter": "python",
   "pygments_lexer": "ipython3",
   "version": "3.9.13"
  }
 },
 "nbformat": 4,
 "nbformat_minor": 5
}
