{
 "cells": [
  {
   "cell_type": "markdown",
   "id": "cc3e5df8",
   "metadata": {},
   "source": [
    "## Load the First Phase csv file which does not have the six block website inside. This is with F-PKI csv file."
   ]
  },
  {
   "cell_type": "code",
   "execution_count": 1,
   "id": "671e40af",
   "metadata": {},
   "outputs": [],
   "source": [
    "import pandas as pd\n",
    "df = pd.read_csv('1stwithoutsixwebsite.csv')"
   ]
  },
  {
   "cell_type": "markdown",
   "id": "76d8b6d4",
   "metadata": {},
   "source": [
    "## We separate the data which shows Case 4 behaviour"
   ]
  },
  {
   "cell_type": "code",
   "execution_count": 3,
   "id": "5bb2be59",
   "metadata": {},
   "outputs": [],
   "source": [
    "df2  =  df[df['WASM RTT'] =='Waiting time exceeds 10 seconds'] "
   ]
  },
  {
   "cell_type": "code",
   "execution_count": 4,
   "id": "1266d0aa",
   "metadata": {},
   "outputs": [],
   "source": [
    "df2.to_csv(\"new_waiting_time_exceed.csv\")"
   ]
  },
  {
   "cell_type": "markdown",
   "id": "ba887764",
   "metadata": {},
   "source": [
    "## Below script helps to show from 94 websites how many unique websites show Case 4 behaviour"
   ]
  },
  {
   "cell_type": "code",
   "execution_count": 5,
   "id": "0b760703",
   "metadata": {
    "scrolled": true
   },
   "outputs": [
    {
     "name": "stdout",
     "output_type": "stream",
     "text": [
      "Unique Websites:\n",
      "amazon.com\n",
      "merriam-webster.com\n",
      "wiktionary.org\n",
      "microsoft.com\n",
      "homedepot.com\n",
      "mayoclinic.org\n",
      "bestbuy.com\n",
      "nordstrom.com\n",
      "roblox.com\n",
      "vocabulary.com\n",
      "xe.com\n",
      "coinmarketcap.com\n",
      "fast.com\n",
      "stackoverflow.com\n",
      "calculator.net\n",
      "grubhub.com\n",
      "google.com\n",
      "apple.com\n",
      "whatsapp.com\n",
      "healthline.com\n",
      "spotify.com\n",
      "ytmp3.cc\n",
      "thepiratebay.org\n",
      "mcdonalds.com\n",
      "dominos.com\n",
      "digitaltrends.com\n",
      "britannica.com\n",
      "netflix.com\n",
      "bloomberg.com\n",
      "pexels.com\n",
      "github.com\n",
      "nintendo.com\n",
      "yahoo.com\n",
      "walmart.com\n",
      "timeanddate.com\n",
      "adobe.com\n",
      "ssyoutube.com\n",
      "wellsfargo.com\n",
      "dictionary.com\n",
      "xnxx.com\n",
      "cricbuzz.com\n",
      "indiatimes.com\n",
      "twitch.tv\n",
      "www2.hm.com\n",
      "nih.gov\n",
      "thesaurus.com\n",
      "caranddriver.com\n",
      "expedia.com\n",
      "facebook.com\n",
      "craigslist.org\n",
      "bbc.com\n",
      "goodhousekeeping.com\n",
      "nba.com\n",
      "indeed.com\n",
      "rottentomatoes.com\n",
      "poki.com\n",
      "theguardian.com\n",
      "tiktok.com\n",
      "cdc.gov\n",
      "spanishdict.com\n",
      "decathlon.com\n",
      "ebay.com\n",
      "gsmarena.com\n",
      "livescore.com\n",
      "weather.com\n",
      "webmd.com\n",
      "espncricinfo.com\n",
      "crazygames.com\n",
      "espn.com\n",
      "linkedin.com\n",
      "pornhub.com\n",
      "akc.org\n",
      "cambridge.org\n",
      "hotels.com\n",
      "thefreedictionary.com\n",
      "blog.google\n",
      "forbes.com\n",
      "realtor.com\n",
      "steampowered.com\n",
      "Total Unique Websites: 79\n"
     ]
    }
   ],
   "source": [
    "import pandas as pd\n",
    "\n",
    "\n",
    "df3 = pd.read_csv('new_waiting_time_exceed.csv')\n",
    "unique_websites = df3['Website'].unique()\n",
    "\n",
    "\n",
    "num_unique_websites = len(unique_websites)\n",
    "\n",
    "\n",
    "print(\"Unique Websites:\")\n",
    "for website in unique_websites:\n",
    "    print(website)\n",
    "print(f\"Total Unique Websites: {num_unique_websites}\")\n"
   ]
  },
  {
   "cell_type": "markdown",
   "id": "ca27d2f9",
   "metadata": {},
   "source": [
    "### From above we remove \"microsoft.com\" because it shows a security warning. So the total unique websites are 78"
   ]
  },
  {
   "cell_type": "markdown",
   "id": "81af7429",
   "metadata": {},
   "source": [
    "## Below script helps to show from 59 websites how many unique countries show Case 4 behaviour"
   ]
  },
  {
   "cell_type": "code",
   "execution_count": 6,
   "id": "e2e856af",
   "metadata": {
    "scrolled": true
   },
   "outputs": [
    {
     "name": "stdout",
     "output_type": "stream",
     "text": [
      "Unique Country:\n",
      "Albania\n",
      "Argentina\n",
      "Australia\n",
      "Austria\n",
      "Belgium\n",
      "Bosnia_And_Herzegovina\n",
      "Brazil\n",
      "Bulgaria\n",
      "Canada\n",
      "Chile\n",
      "Colombia\n",
      "Costa_Rica\n",
      "Croatia\n",
      "Cyprus\n",
      "Czech_Republic\n",
      "Denmark\n",
      "Estonia\n",
      "Finland\n",
      "France\n",
      "Germany\n",
      "Greece\n",
      "Hong_Kong\n",
      "Hungary\n",
      "Iceland\n",
      "Indonesia\n",
      "Ireland\n",
      "Israel\n",
      "Italy\n",
      "Japan\n",
      "Latvia\n",
      "Lithuania\n",
      "Luxembourg\n",
      "Malaysia\n",
      "Mexico\n",
      "Moldova\n",
      "Netherlands\n",
      "New_Zealand\n",
      "North_Macedonia\n",
      "Poland\n",
      "Portugal\n",
      "Romania\n",
      "Serbia\n",
      "Singapore\n",
      "Slovakia\n",
      "Slovenia\n",
      "South_Africa\n",
      "South_Korea\n",
      "Spain\n",
      "Sweden\n",
      "Switzerland\n",
      "Taiwan\n",
      "Thailand\n",
      "Turkey\n",
      "Ukraine\n",
      "United_Kingdom\n",
      "United_States\n",
      "Vietnam\n",
      "Georgia\n",
      "Norway\n",
      "Total Unique Websites: 59\n"
     ]
    }
   ],
   "source": [
    "import pandas as pd\n",
    "\n",
    "\n",
    "df3 = pd.read_csv('new_waiting_time_exceed.csv')\n",
    "unique_websites = df3['Country'].unique()\n",
    "\n",
    "num_unique_websites = len(unique_websites)\n",
    "\n",
    "print(\"Unique Country:\")\n",
    "for website in unique_websites:\n",
    "    print(website)\n",
    "print(f\"Total Unique Websites: {num_unique_websites}\")\n"
   ]
  },
  {
   "cell_type": "markdown",
   "id": "78e1d9f2",
   "metadata": {},
   "source": [
    "## Below script merge the clean First phase (new_waiting_time_exceed) csv file (that shows case 4 behaviour) with Third phase csv. Third phase csv file contain without F-PKI dataset"
   ]
  },
  {
   "cell_type": "code",
   "execution_count": 7,
   "id": "e84fcc7a",
   "metadata": {},
   "outputs": [],
   "source": [
    "import pandas as pd\n",
    "\n",
    "\n",
    "df1 = pd.read_csv('new_waiting_time_exceed.csv')\n",
    "df2 = pd.read_csv('Third phase.csv')\n",
    "\n",
    "merged_df = pd.merge(df1, df2, on=['Website', 'Country'])\n",
    "merged_df.to_csv('nowasmrttsizes10merged.csv', index=False)\n"
   ]
  },
  {
   "cell_type": "code",
   "execution_count": null,
   "id": "8101e559",
   "metadata": {},
   "outputs": [],
   "source": []
  }
 ],
 "metadata": {
  "kernelspec": {
   "display_name": "Python 3 (ipykernel)",
   "language": "python",
   "name": "python3"
  },
  "language_info": {
   "codemirror_mode": {
    "name": "ipython",
    "version": 3
   },
   "file_extension": ".py",
   "mimetype": "text/x-python",
   "name": "python",
   "nbconvert_exporter": "python",
   "pygments_lexer": "ipython3",
   "version": "3.9.13"
  }
 },
 "nbformat": 4,
 "nbformat_minor": 5
}
