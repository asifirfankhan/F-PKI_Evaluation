{
 "cells": [
  {
   "cell_type": "markdown",
   "id": "4a2878f0",
   "metadata": {},
   "source": [
    "## Load the First Phase, Second Phase and Third Phase csv file which does not have the six block website and microsoft.com website. "
   ]
  },
  {
   "cell_type": "code",
   "execution_count": 1,
   "id": "cea99b43",
   "metadata": {},
   "outputs": [],
   "source": [
    "import pandas as pd\n",
    "\n",
    "df = pd.read_csv('new_first_phase_withoutsevenwebsites.csv')\n",
    "df2 = pd.read_csv('new_second_phase_withoutsevenwebsites.csv')\n",
    "df3 = pd.read_csv('new_third_phase_withoutsevenwebsites.csv')"
   ]
  },
  {
   "cell_type": "markdown",
   "id": "9a44fca4",
   "metadata": {},
   "source": [
    "## Below script merge the clean First phase csv file with Second phase csv. "
   ]
  },
  {
   "cell_type": "code",
   "execution_count": 3,
   "id": "725dddb5",
   "metadata": {},
   "outputs": [],
   "source": [
    "import pandas as pd\n",
    "\n",
    "\n",
    "df = pd.read_csv('new_first_phase_withoutsevenwebsites.csv')\n",
    "df2 = pd.read_csv('new_second_phase_withoutsevenwebsites.csv')\n",
    "\n",
    "\n",
    "merged_df = pd.merge(df, df2, on=['Website', 'Country'])\n",
    "merged_df.to_csv('new_1st2ndmerged.csv', index=False)\n"
   ]
  },
  {
   "cell_type": "markdown",
   "id": "00fc2d72",
   "metadata": {},
   "source": [
    "## Below script merge the clean \"new_1st2ndmerged\" csv file with Third phase csv."
   ]
  },
  {
   "cell_type": "code",
   "execution_count": 4,
   "id": "c7c5344e",
   "metadata": {},
   "outputs": [],
   "source": [
    "import pandas as pd\n",
    "\n",
    "\n",
    "df1 = pd.read_csv('new_1st2ndmerged.csv')\n",
    "df3 = pd.read_csv('new_third_phase_withoutsevenwebsites.csv')\n",
    "\n",
    "merged_df = pd.merge(df1, df3, on=['Website', 'Country'])\n",
    "merged_df.to_csv('new_4th1st2ndmerged.csv', index=False)"
   ]
  },
  {
   "cell_type": "code",
   "execution_count": 5,
   "id": "b4889892",
   "metadata": {},
   "outputs": [],
   "source": [
    "import pandas as pd\n",
    "df = pd.read_csv('new_4th1st2ndmerged.csv')"
   ]
  },
  {
   "cell_type": "code",
   "execution_count": 6,
   "id": "7f833469",
   "metadata": {},
   "outputs": [],
   "source": [
    "df2  =  df[df['WASM RTT'] !='Waiting time exceeds 10 seconds'] "
   ]
  },
  {
   "cell_type": "code",
   "execution_count": 8,
   "id": "735c4d60",
   "metadata": {},
   "outputs": [],
   "source": [
    "df2.to_csv(\"new_4th1st2ndmerged_without10sec.csv\")"
   ]
  }
 ],
 "metadata": {
  "kernelspec": {
   "display_name": "Python 3 (ipykernel)",
   "language": "python",
   "name": "python3"
  },
  "language_info": {
   "codemirror_mode": {
    "name": "ipython",
    "version": 3
   },
   "file_extension": ".py",
   "mimetype": "text/x-python",
   "name": "python",
   "nbconvert_exporter": "python",
   "pygments_lexer": "ipython3",
   "version": "3.9.13"
  }
 },
 "nbformat": 4,
 "nbformat_minor": 5
}
